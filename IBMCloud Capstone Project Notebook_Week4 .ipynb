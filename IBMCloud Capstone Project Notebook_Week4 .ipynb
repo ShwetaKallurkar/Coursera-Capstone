{
    "nbformat_minor": 1, 
    "cells": [
        {
            "source": "   # Coursera Capstone Project \n   ## IBM Applied Data Science Project \n   ### Predicting a New location for \"Cafe Coffee day\" shop in Bangalore , India ", 
            "cell_type": "markdown", 
            "metadata": {
                "collapsed": true
            }
        }, 
        {
            "source": "## Introduction ", 
            "cell_type": "markdown", 
            "metadata": {}
        }, 
        {
            "source": "Caf\u00e9 Coffee Day (CCD) is an Indian caf\u00e9 chain. It is a subsidiary of Coffee Day Enterprises Limited. Coffee Day serves 1.8 billion cups of coffee annually.<br>\nCaf\u00e9 Coffee Day(CCD) Global Limited Company is a Chikkamagaluru-based business which grows coffee in its own estates of 20,000 acres<br>\nIt is the largest producer of arabica beans in Asia, exporting to various countries including the U.S., Europe, and Japan<br>\nCCD is assumed to be a best place to hang out with friends where you can enjoy conversations over signature coffee brews, cold beverages, bites, desserts<br>\nThere are around 140 outlets in the bangalore \nLocation of existence of these CCD outlets enhance the profit or loss of the company. ", 
            "cell_type": "markdown", 
            "metadata": {}
        }, 
        {
            "source": "#### Business Problem ", 
            "cell_type": "markdown", 
            "metadata": {}
        }, 
        {
            "source": "The objective of this Capstone project is to analyse and get the best location for the CCD to open a new outlet in Bangalore , India .<br>\nUsing Data science methodology and machine learning techniques like Clustering , segmentation , this project aims to provide solutions to answer the business problem <br> i.e in the city of Bangalore , if a CCD owner wishes to open a New Outlet , which is the best suitable place ?", 
            "cell_type": "markdown", 
            "metadata": {}
        }, 
        {
            "source": "#### Target Audience ", 
            "cell_type": "markdown", 
            "metadata": {}
        }, 
        {
            "source": "This project is mainly useful for the CCD owners as well as competitors of CCD as to where the new outlet has to be started to have a good business.<br>\nThis project is timely as the city is currently suffering from oversupply of CCD shops ", 
            "cell_type": "markdown", 
            "metadata": {}
        }, 
        {
            "source": "## Data", 
            "cell_type": "markdown", 
            "metadata": {}
        }, 
        {
            "source": "#### To solve the mentioned Problem we need the following", 
            "cell_type": "markdown", 
            "metadata": {}
        }, 
        {
            "source": "* List the Neighborhoods of Bangalore .This defines the scope of this project which is confined to the city Bangalore , a city in Karnataka state.<br>\n* Lattitude and Longitute of this Neighborhood  .This is required to plot the map and also get the venue data <br>\n* Venue data i.e particular data related to Cafe Coffee shops .We will use this data to perform clustering on the neighborhoods <br>", 
            "cell_type": "markdown", 
            "metadata": {}
        }, 
        {
            "source": "#### Sources of Data and methods to extract them ", 
            "cell_type": "markdown", 
            "metadata": {}
        }, 
        {
            "source": "This Wikipedia page <https://en.wikipedia.org/wiki/Category:Neighbourhoods_in_Bangalore>  contains a list of neighborhoods in Bangalore  with a total of neighborhoods .We will use web scraping techniques to extrcat the data from the wikipedia page , with the help of Python request and beautifulspoup packages .Then we will get the geographical co ordinates of neighborhood using Python Geocoder package which will give us the latitude and longitude co ordinates of the neighborhoods.\n\nWe will use FourSqaure API to get the venue data for thise neighborhoods.FourSquare has one of the largeset Databases of 105+ million places.\nFoursqaure API will provied many categories of the Venue data but we are mainly interest in the CCD Coffee Shop in  order to help us to solve the business problem \nThis project will make use of many Data Science skills from web scraping, working with APR (Foursquare), data cleaning , data Wrangling to machine learning (K means Clustering) and data Visualization (Foliume)<br>\nIn the next section,Methodology section we will elaborate on the data analysis , machine learning technique<br>.", 
            "cell_type": "markdown", 
            "metadata": {}
        }
    ], 
    "metadata": {
        "kernelspec": {
            "display_name": "Python 3.6", 
            "name": "python3", 
            "language": "python"
        }, 
        "language_info": {
            "mimetype": "text/x-python", 
            "nbconvert_exporter": "python", 
            "version": "3.6.8", 
            "name": "python", 
            "file_extension": ".py", 
            "pygments_lexer": "ipython3", 
            "codemirror_mode": {
                "version": 3, 
                "name": "ipython"
            }
        }
    }, 
    "nbformat": 4
}